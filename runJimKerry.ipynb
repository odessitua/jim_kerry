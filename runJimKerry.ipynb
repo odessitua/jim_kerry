{
  "nbformat": 4,
  "nbformat_minor": 0,
  "metadata": {
    "colab": {
      "name": "runJimKerry",
      "provenance": []
    },
    "kernelspec": {
      "name": "python3",
      "display_name": "Python 3"
    },
    "language_info": {
      "name": "python"
    }
  },
  "cells": [
    {
      "cell_type": "code",
      "metadata": {
        "id": "a4OZLfGwTPtO"
      },
      "source": [
        "pip install deepface"
      ],
      "execution_count": null,
      "outputs": []
    },
    {
      "cell_type": "code",
      "metadata": {
        "id": "UzFPmURfP672"
      },
      "source": [
        "from celebfound import CelebFound"
      ],
      "execution_count": 1,
      "outputs": []
    },
    {
      "cell_type": "code",
      "metadata": {
        "colab": {
          "base_uri": "https://localhost:8080/"
        },
        "id": "NtzGPvZ4mKC0",
        "outputId": "0374fd81-7f3d-44c5-e201-10222e9e4c58"
      },
      "source": [
        "#Создается объект и подтягивается видео файл с гугл диска и номера фреймов, где нейронка нашла Джима Керри\n",
        "jimKerry = CelebFound(fileId='1ETKBfNoXO8Kafr8Kn1tbzozb94ygRI41',fileName=None,pathToIds='kerry.ids.npy',dbPath = \"kerry\")"
      ],
      "execution_count": 2,
      "outputs": [
        {
          "output_type": "stream",
          "text": [
            "Load ids count: 7479 Last: 19114\n"
          ],
          "name": "stdout"
        }
      ]
    },
    {
      "cell_type": "code",
      "metadata": {
        "id": "KY3jRAaKmnWZ"
      },
      "source": [
        "#jimKerry.searchFrames(secToEnd=None,fastMode=False)"
      ],
      "execution_count": null,
      "outputs": []
    },
    {
      "cell_type": "code",
      "metadata": {
        "colab": {
          "base_uri": "https://localhost:8080/"
        },
        "id": "JeXLD4967Tua",
        "outputId": "bbafa8ec-8559-4d23-b887-12a08b01fd4c"
      },
      "source": [
        "#Заполняю пропущенные фреймы, если между двумя кадрами меньше 10 не определило\n",
        "jimKerry.fillMissFrames()"
      ],
      "execution_count": 3,
      "outputs": [
        {
          "output_type": "stream",
          "text": [
            "Old frames count: 7479\n",
            "New frames count: 8473\n"
          ],
          "name": "stdout"
        }
      ]
    },
    {
      "cell_type": "code",
      "metadata": {
        "colab": {
          "base_uri": "https://localhost:8080/"
        },
        "id": "ch2pBtlo_wzd",
        "outputId": "43a08fc5-ff0d-4965-e3a1-6582f84934f7"
      },
      "source": [
        "jimTime, allTime = jimKerry.countCelebTime()\n",
        "print(\"Jim Carrey was {} seconds in {} second video\".format(jimTime,allTime))"
      ],
      "execution_count": 4,
      "outputs": [
        {
          "output_type": "stream",
          "text": [
            "Jim Carrey was 353 seconds in 1235 second video\n"
          ],
          "name": "stdout"
        }
      ]
    },
    {
      "cell_type": "code",
      "metadata": {
        "id": "xOa0wlOACUDF"
      },
      "source": [
        "#Проходим по всему видео и сохраняем видео по собранным номерам кадров\n",
        "jimKerry.saveCelebVideo(outputPath='output.mp4')"
      ],
      "execution_count": 5,
      "outputs": []
    }
  ]
}