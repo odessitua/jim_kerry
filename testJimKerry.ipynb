{
  "nbformat": 4,
  "nbformat_minor": 0,
  "metadata": {
    "colab": {
      "name": "testJimKerry",
      "provenance": []
    },
    "kernelspec": {
      "name": "python3",
      "display_name": "Python 3"
    },
    "language_info": {
      "name": "python"
    },
    "accelerator": "GPU"
  },
  "cells": [
    {
      "cell_type": "code",
      "metadata": {
        "id": "a4OZLfGwTPtO"
      },
      "source": [
        "pip install deepface"
      ],
      "execution_count": null,
      "outputs": []
    },
    {
      "cell_type": "code",
      "metadata": {
        "id": "UzFPmURfP672",
        "colab": {
          "base_uri": "https://localhost:8080/"
        },
        "outputId": "160ef068-cd94-4307-b8ff-b12a5d472bb2"
      },
      "source": [
        "from celebfound import CelebFound"
      ],
      "execution_count": 4,
      "outputs": [
        {
          "output_type": "stream",
          "text": [
            "Directory  /root /.deepface created\n",
            "Directory  /root /.deepface/weights created\n"
          ],
          "name": "stdout"
        }
      ]
    },
    {
      "cell_type": "markdown",
      "metadata": {
        "id": "-Atz9b1cXXlj"
      },
      "source": [
        "Для теста можно или подгрузить файл по айди в гугл диске **fileId** или прямо указать в **fileName**\n",
        "\n",
        "**dbPath:**\n",
        "Обязательно должна быть папка \"kerry\", где фотографии актера или маска representations_vgg_face.pkl\n",
        "\n",
        "**pathToIds**\n",
        "Так как 1 секунду видео скрипт обрабатывает 85 секунд, то сюда сохраняются айди, которые при повторном запуске скрипта подгружаются. Лучше подключить гугл диск и указать полный путь. Если перезапуск не планируется, можно оставить по умолчанию"
      ]
    },
    {
      "cell_type": "code",
      "metadata": {
        "id": "NtzGPvZ4mKC0"
      },
      "source": [
        "#fileId: https://drive.google.com/uc?id={}'.format(fileId)\n",
        "jimKerry = CelebFound(fileId='1ETKBfNoXO8Kafr8Kn1tbzozb94ygRI41',fileName=None,pathToIds='kerry.ids.npy',dbPath = \"kerry\")"
      ],
      "execution_count": 5,
      "outputs": []
    },
    {
      "cell_type": "markdown",
      "metadata": {
        "id": "tqiHvmGaZShT"
      },
      "source": [
        "Только для первого запуска, если вдруг остались из предыдущего теста айди"
      ]
    },
    {
      "cell_type": "code",
      "metadata": {
        "id": "Yyn_2aQxYXam"
      },
      "source": [
        "jimKerry.clearFrameIds()"
      ],
      "execution_count": null,
      "outputs": []
    },
    {
      "cell_type": "markdown",
      "metadata": {
        "id": "YuQYPgQMZUot"
      },
      "source": [
        "Функция, которая ищет лицо Джима Керри на видео.\n",
        "\n",
        "**secToEnd:** Можно указать сколько секунд видео тестировать. 1 секунда видео обрабатывается 85 секунд на GPU, для теста можно просто ограничить время\n",
        "\n",
        "**fastMode:**\n",
        "Параметр по идее ускоряет в 10 раз работу, так как берет каждый 10й кадр, но много лишнего тогда захватывает и многое пропускает. Не рекомендую"
      ]
    },
    {
      "cell_type": "code",
      "metadata": {
        "id": "KY3jRAaKmnWZ"
      },
      "source": [
        "jimKerry.searchFrames(secToEnd=None,fastMode=False)"
      ],
      "execution_count": null,
      "outputs": []
    },
    {
      "cell_type": "code",
      "metadata": {
        "colab": {
          "base_uri": "https://localhost:8080/"
        },
        "id": "JeXLD4967Tua",
        "outputId": "bbafa8ec-8559-4d23-b887-12a08b01fd4c"
      },
      "source": [
        "#Заполняю пропущенные фреймы, если между двумя кадрами меньше 10 не определило\n",
        "jimKerry.fillMissFrames()"
      ],
      "execution_count": null,
      "outputs": [
        {
          "output_type": "stream",
          "text": [
            "Old frames count: 7479\n",
            "New frames count: 8473\n"
          ],
          "name": "stdout"
        }
      ]
    },
    {
      "cell_type": "code",
      "metadata": {
        "colab": {
          "base_uri": "https://localhost:8080/"
        },
        "id": "ch2pBtlo_wzd",
        "outputId": "43a08fc5-ff0d-4965-e3a1-6582f84934f7"
      },
      "source": [
        "jimTime, allTime = jimKerry.countCelebTime()\n",
        "print(\"Jim Carrey was {} seconds in {} second video\".format(jimTime,allTime))"
      ],
      "execution_count": null,
      "outputs": [
        {
          "output_type": "stream",
          "text": [
            "Jim Carrey was 353 seconds in 1235 second video\n"
          ],
          "name": "stdout"
        }
      ]
    },
    {
      "cell_type": "code",
      "metadata": {
        "id": "xOa0wlOACUDF"
      },
      "source": [
        "#Проходим по всему видео и сохраняем видео по собранным номерам кадров\n",
        "jimKerry.saveCelebVideo(outputPath='output.mp4')"
      ],
      "execution_count": null,
      "outputs": []
    }
  ]
}